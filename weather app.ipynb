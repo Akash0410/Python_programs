{
 "cells": [
  {
   "cell_type": "code",
   "execution_count": 2,
   "metadata": {},
   "outputs": [
    {
     "name": "stdout",
     "output_type": "stream",
     "text": [
      "Enter the city name\n",
      "Searching in google......\n",
      "\n"
     ]
    },
    {
     "ename": "IndexError",
     "evalue": "list index out of range",
     "output_type": "error",
     "traceback": [
      "\u001b[1;31m---------------------------------------------------------------------------\u001b[0m",
      "\u001b[1;31mIndexError\u001b[0m                                Traceback (most recent call last)",
      "\u001b[1;32mc:\\Users\\Akash Raj\\Desktop\\python programs\\weather app.ipynb Cell 1\u001b[0m in \u001b[0;36m<cell line: 22>\u001b[1;34m()\u001b[0m\n\u001b[0;32m     <a href='vscode-notebook-cell:/c%3A/Users/Akash%20Raj/Desktop/python%20programs/weather%20app.ipynb#W0sZmlsZQ%3D%3D?line=19'>20</a>\u001b[0m city\u001b[39m=\u001b[39m\u001b[39minput\u001b[39m()\n\u001b[0;32m     <a href='vscode-notebook-cell:/c%3A/Users/Akash%20Raj/Desktop/python%20programs/weather%20app.ipynb#W0sZmlsZQ%3D%3D?line=20'>21</a>\u001b[0m city\u001b[39m=\u001b[39mcity\u001b[39m+\u001b[39m\u001b[39m\"\u001b[39m\u001b[39m weather\u001b[39m\u001b[39m\"\u001b[39m\n\u001b[1;32m---> <a href='vscode-notebook-cell:/c%3A/Users/Akash%20Raj/Desktop/python%20programs/weather%20app.ipynb#W0sZmlsZQ%3D%3D?line=21'>22</a>\u001b[0m weather(city)\n",
      "\u001b[1;32mc:\\Users\\Akash Raj\\Desktop\\python programs\\weather app.ipynb Cell 1\u001b[0m in \u001b[0;36mweather\u001b[1;34m(city)\u001b[0m\n\u001b[0;32m      <a href='vscode-notebook-cell:/c%3A/Users/Akash%20Raj/Desktop/python%20programs/weather%20app.ipynb#W0sZmlsZQ%3D%3D?line=7'>8</a>\u001b[0m \u001b[39mprint\u001b[39m(\u001b[39m\"\u001b[39m\u001b[39mSearching in google......\u001b[39m\u001b[39m\\n\u001b[39;00m\u001b[39m\"\u001b[39m)\n\u001b[0;32m      <a href='vscode-notebook-cell:/c%3A/Users/Akash%20Raj/Desktop/python%20programs/weather%20app.ipynb#W0sZmlsZQ%3D%3D?line=8'>9</a>\u001b[0m soup \u001b[39m=\u001b[39m BeautifulSoup(res\u001b[39m.\u001b[39mtext,\u001b[39m'\u001b[39m\u001b[39mhtml.parser\u001b[39m\u001b[39m'\u001b[39m)   \n\u001b[1;32m---> <a href='vscode-notebook-cell:/c%3A/Users/Akash%20Raj/Desktop/python%20programs/weather%20app.ipynb#W0sZmlsZQ%3D%3D?line=9'>10</a>\u001b[0m location \u001b[39m=\u001b[39m soup\u001b[39m.\u001b[39;49mselect(\u001b[39m'\u001b[39;49m\u001b[39m#wob_loc\u001b[39;49m\u001b[39m'\u001b[39;49m)[\u001b[39m0\u001b[39;49m]\u001b[39m.\u001b[39mgetText()\u001b[39m.\u001b[39mstrip()  \n\u001b[0;32m     <a href='vscode-notebook-cell:/c%3A/Users/Akash%20Raj/Desktop/python%20programs/weather%20app.ipynb#W0sZmlsZQ%3D%3D?line=10'>11</a>\u001b[0m time \u001b[39m=\u001b[39m soup\u001b[39m.\u001b[39mselect(\u001b[39m'\u001b[39m\u001b[39m#wob_dts\u001b[39m\u001b[39m'\u001b[39m)[\u001b[39m0\u001b[39m]\u001b[39m.\u001b[39mgetText()\u001b[39m.\u001b[39mstrip()       \n\u001b[0;32m     <a href='vscode-notebook-cell:/c%3A/Users/Akash%20Raj/Desktop/python%20programs/weather%20app.ipynb#W0sZmlsZQ%3D%3D?line=11'>12</a>\u001b[0m info \u001b[39m=\u001b[39m soup\u001b[39m.\u001b[39mselect(\u001b[39m'\u001b[39m\u001b[39m#wob_dc\u001b[39m\u001b[39m'\u001b[39m)[\u001b[39m0\u001b[39m]\u001b[39m.\u001b[39mgetText()\u001b[39m.\u001b[39mstrip() \n",
      "\u001b[1;31mIndexError\u001b[0m: list index out of range"
     ]
    }
   ],
   "source": [
    "from bs4 import BeautifulSoup\n",
    "import requests\n",
    "headers = {'User-Agent': 'Mozilla/5.0 (Windows NT 10.0; Win64; x64) AppleWebKit/537.36 (KHTML, like Gecko) Chrome/58.0.3029.110 Safari/537.3'}\n",
    "\n",
    "def weather(city):\n",
    "    city=city.replace(\" \",\"+\")\n",
    "    res = requests.get(f'https://www.google.com/search?q={city}&oq={city}&aqs=chrome.0.35i39l2j0l4j46j69i60.6128j1j7&sourceid=chrome&ie=UTF-8',headers=headers)\n",
    "    print(\"Searching in google......\\n\")\n",
    "    soup = BeautifulSoup(res.text,'html.parser')   \n",
    "    location = soup.select('#wob_loc')[0].getText().strip()  \n",
    "    time = soup.select('#wob_dts')[0].getText().strip()       \n",
    "    info = soup.select('#wob_dc')[0].getText().strip() \n",
    "    weather = soup.select('#wob_tm')[0].getText().strip()\n",
    "    print(location)\n",
    "    print(time)\n",
    "    print(info)\n",
    "    print(weather+\"°C\") \n",
    "\n",
    "print(\"Enter the city name\")\n",
    "city=input()\n",
    "city=city+\" weather\"\n",
    "weather(city)\n",
    "\n"
   ]
  },
  {
   "cell_type": "code",
   "execution_count": 2,
   "metadata": {},
   "outputs": [
    {
     "name": "stdout",
     "output_type": "stream",
     "text": [
      "Given string :  sjcsjkc545(&*&\n",
      "Result:  sjcsjkc\n",
      "length of characters:  7\n",
      "545(&*&\n",
      "Length of specials characters: 7\n"
     ]
    }
   ],
   "source": [
    "a = input()\n",
    "print(\"Given string : \", a)\n",
    "\n",
    "b = \"\"\n",
    "for i in a:\n",
    "    if i.isalnum():\n",
    "        b+=i\n",
    "\n",
    "\n",
    "print(\"Result: \", b)\n",
    "print(\"length of characters: \",len(b))\n",
    "c=\"\"\n",
    "for i in a:\n",
    "    if i not in b:\n",
    "        c+=i\n",
    "print(c)\n",
    "print(\"Length of specials characters:\",len(c))\n",
    "\n"
   ]
  },
  {
   "cell_type": "code",
   "execution_count": 39,
   "metadata": {},
   "outputs": [
    {
     "name": "stdout",
     "output_type": "stream",
     "text": [
      "#%\n"
     ]
    }
   ],
   "source": [
    "a=input()\n",
    "\n",
    "b=\"abcdefghijklmopqrstuvwxyz\"\n",
    "c=\"\"\n",
    "for i in a.lower():\n",
    "    if i not in b:\n",
    "        c+=i\n",
    "print(c)\n"
   ]
  },
  {
   "cell_type": "code",
   "execution_count": 2,
   "metadata": {},
   "outputs": [
    {
     "name": "stdout",
     "output_type": "stream",
     "text": [
      "120\n"
     ]
    }
   ],
   "source": [
    "n=int(input(\"enter the number\"))\n",
    "fact=1\n",
    "for i in range(1,n+1):\n",
    "    fact=fact*i\n",
    "    \n",
    "print(fact)"
   ]
  },
  {
   "cell_type": "code",
   "execution_count": 14,
   "metadata": {},
   "outputs": [
    {
     "name": "stdout",
     "output_type": "stream",
     "text": [
      "string is not accepted\n"
     ]
    }
   ],
   "source": [
    "n=\"Geeks$For$Geeks\"\n",
    "n.split()\n",
    "c=0\n",
    "s='[@_!#$%^&*()<>?/\\|}{~:]' # special character set\n",
    "for i in range(len(n)):\n",
    "    # checking if any special character is present in given string or not\n",
    "    if n[i] in s:\n",
    "      c+=1   # if special character found then add 1 to the c\n",
    " \n",
    "# if c value is greater than 0 then print no\n",
    "# means special character is found in string     \n",
    "if c:\n",
    "    print(\"string is not accepted\")\n",
    "else:\n",
    "    print(\"string accepted\")"
   ]
  },
  {
   "cell_type": "code",
   "execution_count": 1,
   "metadata": {},
   "outputs": [
    {
     "data": {
      "text/plain": [
       "120"
      ]
     },
     "execution_count": 1,
     "metadata": {},
     "output_type": "execute_result"
    }
   ],
   "source": [
    "def factorial(n):\n",
    "    fact=1\n",
    "    for i in range(1,n+1):\n",
    "        fact=fact*i\n",
    "    return fact\n",
    "factorial(5)"
   ]
  },
  {
   "cell_type": "code",
   "execution_count": 4,
   "metadata": {},
   "outputs": [
    {
     "name": "stdout",
     "output_type": "stream",
     "text": [
      "720\n"
     ]
    }
   ],
   "source": [
    "def factorial():\n",
    "    n=int(input(\"Enter the number upto which want to calculate factorial-\"))\n",
    "    fact=1\n",
    "    for i in range(1,n+1):\n",
    "        fact=fact*i\n",
    "    print(fact)\n",
    "factorial()\n"
   ]
  },
  {
   "cell_type": "code",
   "execution_count": 23,
   "metadata": {},
   "outputs": [
    {
     "name": "stdout",
     "output_type": "stream",
     "text": [
      "492\n"
     ]
    }
   ],
   "source": [
    "x = int(input())\n",
    "y=x*10+x\n",
    "z=x*100+y\n",
    "print(x+y+z)\n",
    "\n",
    "   \n"
   ]
  },
  {
   "cell_type": "code",
   "execution_count": 32,
   "metadata": {},
   "outputs": [
    {
     "name": "stdout",
     "output_type": "stream",
     "text": [
      "4\n",
      "48\n",
      "492\n",
      "4936\n"
     ]
    }
   ],
   "source": [
    "a= input(\"input a ineger\")\n",
    "s=0\n",
    "p=\"10 natural numbers.py\"\n",
    "for i in range(1,int(a)+1):\n",
    "    p=a*i\n",
    "    n1=int(p)\n",
    "    s=s+n1\n",
    "    print(s)"
   ]
  },
  {
   "cell_type": "code",
   "execution_count": 36,
   "metadata": {},
   "outputs": [
    {
     "name": "stdout",
     "output_type": "stream",
     "text": [
      "5\n",
      "60\n",
      "615\n",
      "6170\n",
      "61725\n"
     ]
    }
   ],
   "source": [
    "a=int(input())\n",
    "s=0\n",
    "r=0\n",
    "for i in range(0,a):\n",
    "    s=s*10+a\n",
    "    r=r+s\n",
    "    print(r)\n"
   ]
  },
  {
   "cell_type": "code",
   "execution_count": 37,
   "metadata": {},
   "outputs": [
    {
     "name": "stdout",
     "output_type": "stream",
     "text": [
      "[1, 3, 4, 5]\n"
     ]
    }
   ],
   "source": [
    "num=[1,2,3,4,5]\n",
    "num.remove(2)\n",
    "print(num)"
   ]
  },
  {
   "cell_type": "code",
   "execution_count": 40,
   "metadata": {},
   "outputs": [
    {
     "name": "stdout",
     "output_type": "stream",
     "text": [
      "738\n"
     ]
    }
   ],
   "source": [
    "a=int(input())\n",
    "print(a*123)"
   ]
  },
  {
   "cell_type": "code",
   "execution_count": 7,
   "metadata": {},
   "outputs": [
    {
     "name": "stdout",
     "output_type": "stream",
     "text": [
      "120\n"
     ]
    }
   ],
   "source": [
    "def factorial(n):\n",
    "    fact=1\n",
    "    for i in range(1,n+1):\n",
    "        fact=fact*i\n",
    "    print(fact)\n",
    "n=int(input(\"Enter the number upto which want to calculate factorial-\"))\n",
    "factorial(n)"
   ]
  },
  {
   "cell_type": "code",
   "execution_count": 3,
   "metadata": {},
   "outputs": [
    {
     "name": "stdout",
     "output_type": "stream",
     "text": [
      "120\n"
     ]
    }
   ],
   "source": [
    "def factorial(n):\n",
    "    fact=1\n",
    "    for i in range(1,n+1):\n",
    "        fact=fact*i\n",
    "    print(fact)\n",
    "factorial(5)"
   ]
  },
  {
   "cell_type": "code",
   "execution_count": 7,
   "metadata": {},
   "outputs": [
    {
     "name": "stdout",
     "output_type": "stream",
     "text": [
      "[90, 380, 870, 1560]\n"
     ]
    }
   ],
   "source": [
    "def addition(n):\n",
    "   return ((n*n)-n)\n",
    "number=(10, 20, 30, 40)\n",
    "res= map(addition, number)\n",
    "print(list(res))"
   ]
  },
  {
   "cell_type": "code",
   "execution_count": 7,
   "metadata": {},
   "outputs": [
    {
     "name": "stdout",
     "output_type": "stream",
     "text": [
      "not panagram\n"
     ]
    }
   ],
   "source": [
    "a=\"abcdefghijklmnopqrstuvwxyz\"\n",
    "b=str(input())\n",
    "flag = 0\n",
    "for i in a:\n",
    "    if i not in b.lower():\n",
    "        flag = 1\n",
    "        break\n",
    "if flag == 0:\n",
    "    print(\"panagram\")\n",
    "else:\n",
    "    print(\"not panagram\")"
   ]
  },
  {
   "cell_type": "code",
   "execution_count": 8,
   "metadata": {},
   "outputs": [
    {
     "name": "stdout",
     "output_type": "stream",
     "text": [
      "Nikal lawde\n"
     ]
    }
   ],
   "source": [
    "a=input().lower()\n",
    "b=\"\"\n",
    "for i in a:\n",
    "    b=i+b\n",
    "\n",
    "if a==b:\n",
    "    print(\"Palindrom\")\n",
    "else:\n",
    "    print(\"Nikal lawde\")\n",
    "\n",
    "\n",
    "\n",
    "#print(b)"
   ]
  },
  {
   "cell_type": "code",
   "execution_count": 1,
   "metadata": {},
   "outputs": [
    {
     "name": "stdout",
     "output_type": "stream",
     "text": [
      "100\n",
      "150\n"
     ]
    }
   ],
   "source": [
    "a = int(input())\n",
    "if a%100>=10 and a%100<50:\n",
    "    print(a-(a%100))\n",
    "else:\n",
    "    print(a+(100-(a%100)))\n",
    "if a%10>=4 and a%10<5:\n",
    "    print(a-(a%10))\n",
    "else:\n",
    "    print(a+(10-(a%10)))\n"
   ]
  },
  {
   "cell_type": "code",
   "execution_count": 2,
   "metadata": {},
   "outputs": [
    {
     "name": "stdout",
     "output_type": "stream",
     "text": [
      "0\n",
      "1\n",
      "1\n",
      "2\n",
      "3\n",
      "5\n",
      "8\n",
      "13\n",
      "21\n",
      "34\n"
     ]
    }
   ],
   "source": [
    "n=int(input(\"Enter the range\"))\n",
    "a=1\n",
    "b=0\n",
    "for i in range(1,n+1):\n",
    "    d=a+b\n",
    "    a=b\n",
    "    b=d\n",
    "    print(a)"
   ]
  },
  {
   "cell_type": "code",
   "execution_count": 56,
   "metadata": {},
   "outputs": [
    {
     "name": "stdout",
     "output_type": "stream",
     "text": [
      "299671848\n"
     ]
    }
   ],
   "source": [
    "a=int(input())\n",
    "b=int(input())\n",
    "c=0\n",
    "for i in range(a,b+1):\n",
    "    if i%7==0:\n",
    "        c=c+i\n",
    "print(c)\n"
   ]
  },
  {
   "cell_type": "code",
   "execution_count": 3,
   "metadata": {},
   "outputs": [
    {
     "name": "stdout",
     "output_type": "stream",
     "text": [
      "1024\n",
      "4\n"
     ]
    }
   ],
   "source": [
    "a=int(input())\n",
    "b=int(input())\n",
    "if a>=1 and b>=1:\n",
    "    c=a**b\n",
    "    print(c)\n",
    "    d=c%10\n",
    "    print(d)"
   ]
  },
  {
   "cell_type": "code",
   "execution_count": 3,
   "metadata": {},
   "outputs": [
    {
     "name": "stdout",
     "output_type": "stream",
     "text": [
      "4\n",
      "8\n",
      "16\n"
     ]
    }
   ],
   "source": [
    "a= int(input())\n",
    "b=int(input())\n",
    "c=int(input())\n",
    "for i in range(a,b+1):\n",
    "    if i%10==c:\n",
    "        c=c+i\n",
    "        print(c)\n"
   ]
  },
  {
   "cell_type": "code",
   "execution_count": 6,
   "metadata": {},
   "outputs": [
    {
     "name": "stdout",
     "output_type": "stream",
     "text": [
      "Prime\n"
     ]
    }
   ],
   "source": [
    "n=int(input())\n",
    "flag=0\n",
    "if n>1:\n",
    "    for i in range(2,int(n/2)):\n",
    "        if n%i==0:\n",
    "            flag=1\n",
    "            \n",
    "    if flag==1:\n",
    "        print(\"Not Prime\")\n",
    "    else:\n",
    "        print(\"Prime\")\n",
    "else:\n",
    "    print(\"Not Prime\")\n",
    "            "
   ]
  },
  {
   "cell_type": "code",
   "execution_count": 80,
   "metadata": {},
   "outputs": [
    {
     "name": "stdout",
     "output_type": "stream",
     "text": [
      "1992 is a leap year\n"
     ]
    }
   ],
   "source": [
    "year = int(input(\"Enter the year\"))\n",
    "\n",
    "\n",
    "if (year % 400 == 0) and (year % 100 == 0):\n",
    "    print(\"{} is a leap year\".format(year))\n",
    "\n",
    "\n",
    "elif (year % 4 ==0) and (year % 100 != 0):\n",
    "    print(\"{} is a leap year\".format(year))\n",
    "\n",
    "\n",
    "else:\n",
    "    print(\"{} is not a leap year\".format(year))"
   ]
  },
  {
   "cell_type": "code",
   "execution_count": 2,
   "metadata": {},
   "outputs": [
    {
     "name": "stdout",
     "output_type": "stream",
     "text": [
      "1171.445\n",
      "1819.44\n",
      "2048.0\n",
      "660.0\n",
      "Total payment = 5856.3\n",
      "Cigarette has maximum gst\n"
     ]
    }
   ],
   "source": [
    "class product:\n",
    "    def __init__(self,productname, unitprice, gst, quantity):\n",
    "        self.productname=productname\n",
    "        self.unitprice=unitprice\n",
    "        self.gst=gst\n",
    "        self.quantity=quantity\n",
    "        self.gstamount=(self.unitprice*self.quantity)*(self.gst/100)\n",
    "    def calculation(self):\n",
    "        if self.unitprice>500:\n",
    "            self.unitprice=self.unitprice-((5/100)*self.unitprice)\n",
    "            sum=self.unitprice*self.quantity+((self.gst/100)*self.unitprice*self.quantity)\n",
    "        else: \n",
    "            sum = self.unitprice*self.quantity+((self.gst/100)*self.unitprice*self.quantity)\n",
    "        return sum\n",
    "\n",
    "\n",
    "p1=(product(\"Leather Wallet\",1100,18,1))\n",
    "p2=(product(\"LUmbrella\",900,12,2))\n",
    "p3=(product(\"Cigarette\",400,28,4))\n",
    "p4=(product(\"Honey\",200,10,3))\n",
    "a=p1.calculation()\n",
    "b=p2.calculation()\n",
    "c=p3.calculation()\n",
    "d=p4.calculation()\n",
    "print(p1.calculation())\n",
    "print(p2.calculation())\n",
    "print(p3.calculation())\n",
    "print(p4.calculation())\n",
    "print(\"Total payment =\",a+b+c+d)\n",
    "basket=[p1,p2,p3,p4]\n",
    "maxgst=max(p1.gstamount,p2.gstamount,p3.gstamount,p4.gstamount)\n",
    "for i in basket:\n",
    "    if i.gstamount==maxgst:\n",
    "        print(i.productname,\"has maximum gst\")\n",
    "\n",
    "\n",
    "\n"
   ]
  },
  {
   "cell_type": "code",
   "execution_count": 22,
   "metadata": {},
   "outputs": [
    {
     "data": {
      "text/plain": [
       "tuple"
      ]
     },
     "execution_count": 22,
     "metadata": {},
     "output_type": "execute_result"
    }
   ],
   "source": [
    "a=1,2,3\n",
    "type(a)"
   ]
  }
 ],
 "metadata": {
  "kernelspec": {
   "display_name": "Python 3.10.4 64-bit",
   "language": "python",
   "name": "python3"
  },
  "language_info": {
   "codemirror_mode": {
    "name": "ipython",
    "version": 3
   },
   "file_extension": ".py",
   "mimetype": "text/x-python",
   "name": "python",
   "nbconvert_exporter": "python",
   "pygments_lexer": "ipython3",
   "version": "3.10.4"
  },
  "orig_nbformat": 4,
  "vscode": {
   "interpreter": {
    "hash": "29fbb5ed3ae7c0bd5b043c7aea11b2dec5bc6b355988ee7828fd6dadfa1110ad"
   }
  }
 },
 "nbformat": 4,
 "nbformat_minor": 2
}
