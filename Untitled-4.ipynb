{
 "cells": [
  {
   "cell_type": "code",
   "execution_count": 8,
   "metadata": {},
   "outputs": [
    {
     "name": "stdout",
     "output_type": "stream",
     "text": [
      "{'AAAA': 494, 'BBBB': 426, 'CCCC': 149, 'DDDD': 276, 'EEEE': 344, 'FFFF': 421, 'GGGG': 145, 'HHHH': 109, 'IIII': 490, 'JJJJ': 350}\n"
     ]
    },
    {
     "data": {
      "image/png": "[encoded data removed]",
      "text/plain": [
       "<Figure size 432x288 with 1 Axes>"
      ]
     },
     "metadata": {
      "needs_background": "light"
     },
     "output_type": "display_data"
    }
   ],
   "source": [
    "import numpy as np\n",
    "import matplotlib.pyplot as plt\n",
    "name = np.array(['AAAA','BBBB','CCCC','DDDD','EEEE','FFFF','GGGG','HHHH','IIII','JJJJ'])\n",
    "phy = np.array([99,85,30,55,69,84,29,21,98,70])\n",
    "chem = np.array([98,86,29,56,68,85,29,25,98,70])\n",
    "math =  np.array([99,85,82,55,69,84,29,21,98,70])\n",
    "bio = np.array([99,85,30,55,69,84,29,21,98,70])\n",
    "python=  np.array([99,85,90,55,69,84,29,21,98,70])\n",
    "result={}\n",
    "x=0\n",
    "for i in name:\n",
    "    result[i]=phy[x]+chem[x]+math[x]+bio[x]+python[x]\n",
    "    x+=1\n",
    "print(result)\n",
    "colour=[]\n",
    "plt.bar(name,phy)\n",
    "plt.show()\n",
    "    \n"
   ]
  }
 ],
 "metadata": {
  "kernelspec": {
   "display_name": "Python 3.10.4 64-bit",
   "language": "python",
   "name": "python3"
  },
  "language_info": {
   "codemirror_mode": {
    "name": "ipython",
    "version": 3
   },
   "file_extension": ".py",
   "mimetype": "text/x-python",
   "name": "python",
   "nbconvert_exporter": "python",
   "pygments_lexer": "ipython3",
   "version": "3.10.4"
  },
  "orig_nbformat": 4,
  "vscode": {
   "interpreter": {
    "hash": "29fbb5ed3ae7c0bd5b043c7aea11b2dec5bc6b355988ee7828fd6dadfa1110ad"
   }
  }
 },
 "nbformat": 4,
 "nbformat_minor": 2
}
