{
 "cells": [
  {
   "cell_type": "code",
   "execution_count": 34,
   "metadata": {},
   "outputs": [],
   "source": [
    "from tkinter import *\n",
    "from tkinter import messagebox\n",
    "\n",
    "def login():\n",
    "    username = entry1.get()\n",
    "    password = entry2.get()\n",
    "\n",
    "    if username == ' ' and password == ' ':\n",
    "        messagebox.showerror('login', 'Incorrect Username or Password')\n",
    "    elif username == ' admin' and password == '123':\n",
    "        messagebox.showinfo('login', 'Login Successful')\n",
    "\n",
    "root = Tk()\n",
    "root.configure(bg='cyan4')\n",
    "root.geometry('900x600')\n",
    "\n",
    "global entry1\n",
    "global entry2\n",
    "\n",
    "\n",
    "\n",
    "label1=Label(root, text ='LOGIN PAGE',bg='cyan4', fg='cyan', font=('Areal',20))\n",
    "label1.place(x=500,y=20)\n",
    "label1.pack()\n",
    "\n",
    "label2=Label(root, text ='USERNAME : ',bg='cyan4', fg='white', font=('Areal',20))\n",
    "label2.place(x=310,y=150)\n",
    "\n",
    "\n",
    "label3=Label(root, text ='PASSWORD : ',bg='cyan4', fg='white', font=('Areal',20))\n",
    "label3.place(x=310,y=250)\n",
    "\n",
    "\n",
    "entry1 =Entry(root, font=('Areal',15))\n",
    "entry1.place(x=600, y=150)\n",
    "\n",
    "entry2 =Entry(root, font=('Areal',15), show ='*')\n",
    "entry2.place(x=600, y=250)\n",
    "\n",
    "button = Button(root, text = 'LOGIN', bg='cyan3',font=('Areal', 20), bd=5,command=login)\n",
    "button.place(x=500,y=300)\n",
    "\n",
    "\n",
    "\n",
    "\n",
    "\n",
    "\n",
    "\n",
    "root.mainloop()"
   ]
  }
 ],
 "metadata": {
  "kernelspec": {
   "display_name": "Python 3.10.4 64-bit",
   "language": "python",
   "name": "python3"
  },
  "language_info": {
   "codemirror_mode": {
    "name": "ipython",
    "version": 3
   },
   "file_extension": ".py",
   "mimetype": "text/x-python",
   "name": "python",
   "nbconvert_exporter": "python",
   "pygments_lexer": "ipython3",
   "version": "3.10.4"
  },
  "orig_nbformat": 4,
  "vscode": {
   "interpreter": {
    "hash": "29fbb5ed3ae7c0bd5b043c7aea11b2dec5bc6b355988ee7828fd6dadfa1110ad"
   }
  }
 },
 "nbformat": 4,
 "nbformat_minor": 2
}
