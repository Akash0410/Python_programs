{
 "cells": [
  {
   "cell_type": "code",
   "execution_count": 15,
   "metadata": {},
   "outputs": [],
   "source": [
    "from tkinter import *\n",
    "from tkinter import messagebox\n",
    "\n",
    "def validateLogin():\n",
    "\tusername = usernameEntry.get()\n",
    "\tpassword = passwordEntry.get()\n",
    "\tif username == \" \" and password == \" \":\n",
    "\t\tmessagebox.showerror('login', 'INPUT CORRECT USERNAME OR PASSWORD')\n",
    "\telif username == 'login' and password == '123':\n",
    "\t\tmessagebox.showinfo('login','LOGIN SUCCESSFUL')\n",
    "\t\ttkWindow.destroy()\n",
    "\t\ttop=Tk()\n",
    "\t\ttop.configure(bg='white')\n",
    "\n",
    "\telse:\n",
    "\t\tmessagebox.showerror('login','Incorrect Username or Password')\t\n",
    "\t\n",
    "\t\n",
    "\n",
    "\n",
    "#window\n",
    "tkWindow = Tk() \n",
    "tkWindow.configure() \n",
    "tkWindow.geometry('400x550')  \n",
    "tkWindow.title('Tkinter Login Form')\n",
    "global usernameEntry\n",
    "global passwordEntry\n",
    "#username label and text entry box\n",
    "usernameLabel = Label(tkWindow, text=\"User Name\", bg='yellow',fg='cyan',font=('Areal',24))\n",
    "usernameLabel.place(x=500,y=20)\n",
    "\n",
    "usernameEntry = Entry(tkWindow).grid(row=0, column=1)  \n",
    "\n",
    "#password label and password entry box\n",
    "passwordLabel = Label(tkWindow,text=\"Password\").grid(row=1, column=0)  \n",
    "\n",
    "passwordEntry = Entry(tkWindow,show='*').grid(row=1, column=1)  \n",
    "\n",
    "\n",
    "\n",
    "#login button\n",
    "loginButton = Button(tkWindow, text=\"Login\", command=validateLogin).grid(row=4, column=0)  \n",
    "\n",
    "tkWindow.mainloop()\n",
    "\n"
   ]
  }
 ],
 "metadata": {
  "kernelspec": {
   "display_name": "Python 3.10.4 64-bit",
   "language": "python",
   "name": "python3"
  },
  "language_info": {
   "codemirror_mode": {
    "name": "ipython",
    "version": 3
   },
   "file_extension": ".py",
   "mimetype": "text/x-python",
   "name": "python",
   "nbconvert_exporter": "python",
   "pygments_lexer": "ipython3",
   "version": "3.10.4"
  },
  "orig_nbformat": 4,
  "vscode": {
   "interpreter": {
    "hash": "29fbb5ed3ae7c0bd5b043c7aea11b2dec5bc6b355988ee7828fd6dadfa1110ad"
   }
  }
 },
 "nbformat": 4,
 "nbformat_minor": 2
}
