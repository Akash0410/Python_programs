{
 "cells": [
  {
   "cell_type": "code",
   "execution_count": 1,
   "metadata": {},
   "outputs": [],
   "source": [
    "import pandas as pd\n",
    "import matplotlib.pyplot as plt"
   ]
  },
  {
   "cell_type": "code",
   "execution_count": 2,
   "metadata": {},
   "outputs": [],
   "source": [
    "patient_profiles = pd.read_csv(\"C:/Users/Akash Raj/Downloads/data/Patient_Profile.csv\")"
   ]
  },
  {
   "cell_type": "code",
   "execution_count": 3,
   "metadata": {},
   "outputs": [
    {
     "name": "stdout",
     "output_type": "stream",
     "text": [
      "<class 'pandas.core.frame.DataFrame'>\n",
      "Int64Index: 37633 entries, 18816 to 8841\n",
      "Data columns (total 1 columns):\n",
      " #   Column  Non-Null Count  Dtype\n",
      "---  ------  --------------  -----\n",
      " 0   Income  37633 non-null  int64\n",
      "dtypes: int64(1)\n",
      "memory usage: 588.0 KB\n"
     ]
    }
   ],
   "source": [
    "patient_profile_income = pd.DataFrame(patient_profiles['Income'].replace('None',0).astype('int64').sort_values())\n",
    "patient_profile_income.info()"
   ]
  },
  {
   "cell_type": "code",
   "execution_count": 10,
   "metadata": {},
   "outputs": [
    {
     "name": "stdout",
     "output_type": "stream",
     "text": [
      "                   Patient_ID  Online_Follower  LinkedIn_Shared  \\\n",
      "First_Interaction                                                 \n",
      "01-Apr-03              514820                1                1   \n",
      "01-Apr-04              491470                0                0   \n",
      "01-Apr-05              525629                0                0   \n",
      "01-Apr-06              504293                0                0   \n",
      "01-Aug-03              526703                0                1   \n",
      "...                       ...              ...              ...   \n",
      "31-Oct-02              512604                0                0   \n",
      "31-Oct-03              490428                0                0   \n",
      "31-Oct-04              502696                0                0   \n",
      "31-Oct-05              523680                0                0   \n",
      "31-Oct-06              487225                0                0   \n",
      "\n",
      "                   Twitter_Shared  Facebook_Shared Income Education_Score  \\\n",
      "First_Interaction                                                           \n",
      "01-Apr-03                       0                1      2            None   \n",
      "01-Apr-04                       0                0      5              84   \n",
      "01-Apr-05                       0                0   None            None   \n",
      "01-Apr-06                       0                0   None            None   \n",
      "01-Aug-03                       1                0      2              75   \n",
      "...                           ...              ...    ...             ...   \n",
      "31-Oct-02                       0                1      0            None   \n",
      "31-Oct-03                       0                0   None            None   \n",
      "31-Oct-04                       0                0   None            None   \n",
      "31-Oct-05                       0                0   None            None   \n",
      "31-Oct-06                       0                0   None            None   \n",
      "\n",
      "                    Age City_Type Employer_Category  \n",
      "First_Interaction                                    \n",
      "01-Apr-03            37         G        Consulting  \n",
      "01-Apr-04            48      None            Others  \n",
      "01-Apr-05          None      None              None  \n",
      "01-Apr-06          None         B              None  \n",
      "01-Aug-03            43         G            Health  \n",
      "...                 ...       ...               ...  \n",
      "31-Oct-02            34         E              None  \n",
      "31-Oct-03          None         G        Consulting  \n",
      "31-Oct-04          None         H              None  \n",
      "31-Oct-05          None         E              None  \n",
      "31-Oct-06          None         A              None  \n",
      "\n",
      "[1476 rows x 10 columns]\n"
     ]
    }
   ],
   "source": [
    "pg = patient_profiles.groupby('First_Interaction')\n",
    "print(pg.first())"
   ]
  },
  {
   "cell_type": "code",
   "execution_count": 4,
   "metadata": {},
   "outputs": [
    {
     "data": {
      "text/plain": [
       "0        1\n",
       "1        1\n",
       "2        3\n",
       "3        1\n",
       "4        3\n",
       "        ..\n",
       "37505    0\n",
       "37524    0\n",
       "37545    3\n",
       "37548    5\n",
       "37589    1\n",
       "Name: Income, Length: 4362, dtype: object"
      ]
     },
     "execution_count": 4,
     "metadata": {},
     "output_type": "execute_result"
    }
   ],
   "source": [
    "from numpy import NaN\n",
    "\n",
    "\n",
    "p_nan = patient_profiles['Income'].replace('None', NaN)\n",
    "p_nan.dropna()"
   ]
  },
  {
   "cell_type": "code",
   "execution_count": 5,
   "metadata": {},
   "outputs": [
    {
     "data": {
      "image/png": "[encoded data removed]",
      "text/plain": [
       "<Figure size 432x288 with 1 Axes>"
      ]
     },
     "metadata": {
      "needs_background": "light"
     },
     "output_type": "display_data"
    }
   ],
   "source": [
    "\n",
    "plt.hist(p_nan.dropna().sort_values(),bins=20)\n",
    "plt.show()"
   ]
  },
  {
   "cell_type": "code",
   "execution_count": 6,
   "metadata": {},
   "outputs": [
    {
     "data": {
      "text/plain": [
       "0        Software Industry\n",
       "1        Software Industry\n",
       "2                     BFSI\n",
       "3                Education\n",
       "4                   Others\n",
       "               ...        \n",
       "37460           Technology\n",
       "37468               Others\n",
       "37527               Others\n",
       "37545           Consulting\n",
       "37548        Manufacturing\n",
       "Name: Employer_Category, Length: 2840, dtype: object"
      ]
     },
     "execution_count": 6,
     "metadata": {},
     "output_type": "execute_result"
    }
   ],
   "source": [
    "patient_profiles['Employer_Category'].dropna()"
   ]
  },
  {
   "cell_type": "code",
   "execution_count": 7,
   "metadata": {},
   "outputs": [
    {
     "data": {
      "text/plain": [
       "Employer_Category\n",
       "Broadcasting          51\n",
       "Food                  56\n",
       "Real Estate           57\n",
       "Telecom               58\n",
       "Transport             65\n",
       "Health                88\n",
       "Retail                91\n",
       "Manufacturing        115\n",
       "BFSI                 167\n",
       "Education            188\n",
       "Software Industry    374\n",
       "Consulting           404\n",
       "Others               477\n",
       "Technology           649\n",
       "dtype: int64"
      ]
     },
     "execution_count": 7,
     "metadata": {},
     "output_type": "execute_result"
    }
   ],
   "source": [
    "emp_count = pd.DataFrame(patient_profiles['Employer_Category']).dropna().value_counts().sort_values()\n",
    "emp_count"
   ]
  },
  {
   "cell_type": "code",
   "execution_count": 8,
   "metadata": {},
   "outputs": [
    {
     "data": {
      "image/png": "[encoded data removed]",
      "text/plain": [
       "<Figure size 1152x432 with 1 Axes>"
      ]
     },
     "metadata": {
      "needs_background": "light"
     },
     "output_type": "display_data"
    }
   ],
   "source": [
    "emp_type = ['Broadcasting','Food','Real Estate','Telecom','Transport','Health','Retail','Manufacturing','BFSI','Education','Software Industry','Consulting','Others','Technology']\n",
    "plt.figure(figsize=(16,6))\n",
    "plt.bar(emp_type,emp_count)\n",
    "plt.title(\"Patient's Occuation\")\n",
    "plt.xlabel(\"Employee Type\")\n",
    "plt.ylabel(\"Count\")\n",
    "plt.xticks(rotation=45)\n",
    "plt.show()\n"
   ]
  },
  {
   "cell_type": "markdown",
   "metadata": {},
   "source": [
    "slope, intercept,r p, std_err = stats.linregress(x, y)\n",
    "def my_func(x):\n",
    "    return slope*x+intercept"
   ]
  },
  {
   "cell_type": "code",
   "execution_count": 13,
   "metadata": {},
   "outputs": [
    {
     "name": "stdout",
     "output_type": "stream",
     "text": [
      "-0.758591524376155 %f\n",
      "-0.22001471670343165\n"
     ]
    }
   ],
   "source": [
    "from scipy import stats\n",
    "import matplotlib.pyplot as plt\n",
    "x=[5,7,8,7,2,17,2,9,4,11,12,9,6]\n",
    "y=[99,86,87,88,111,86,103,87,94,78,77,85,86]\n",
    "slope, intercept,r, p, std_err = stats.linregress(x, y)\n",
    "def my_func(x):\n",
    "    return slope*x+intercept\n",
    "speed = my_func(59)\n",
    "print(speed)"
   ]
  },
  {
   "cell_type": "code",
   "execution_count": 61,
   "metadata": {},
   "outputs": [
    {
     "name": "stdout",
     "output_type": "stream",
     "text": [
      "-0.22720290581230757\n"
     ]
    },
    {
     "data": {
      "image/png": "[encoded data removed]",
      "text/plain": [
       "<Figure size 432x288 with 1 Axes>"
      ]
     },
     "metadata": {
      "needs_background": "light"
     },
     "output_type": "display_data"
    }
   ],
   "source": [
    "from scipy import stats\n",
    "import matplotlib.pyplot as plt\n",
    "x=[5,7,8,7,8,17,8,9,4,11,12,9,6]\n",
    "y=[99,99,99,99,99,99,99,99,99,99,99,99,100]\n",
    "slope, intercept,r, p, std_err = stats.linregress(x, y)\n",
    "print(r)\n",
    "def my_func(x):\n",
    "    return slope*x+intercept\n",
    "mymode1=list(map(my_func, x))\n",
    "plt.scatter(x, y)\n",
    "plt.plot(x, mymode1)\n",
    "plt.show()"
   ]
  }
 ],
 "metadata": {
  "kernelspec": {
   "display_name": "Python 3.10.4 64-bit",
   "language": "python",
   "name": "python3"
  },
  "language_info": {
   "codemirror_mode": {
    "name": "ipython",
    "version": 3
   },
   "file_extension": ".py",
   "mimetype": "text/x-python",
   "name": "python",
   "nbconvert_exporter": "python",
   "pygments_lexer": "ipython3",
   "version": "3.10.4"
  },
  "orig_nbformat": 4,
  "vscode": {
   "interpreter": {
    "hash": "29fbb5ed3ae7c0bd5b043c7aea11b2dec5bc6b355988ee7828fd6dadfa1110ad"
   }
  }
 },
 "nbformat": 4,
 "nbformat_minor": 2
}
